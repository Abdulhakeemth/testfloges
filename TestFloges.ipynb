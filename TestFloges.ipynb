{
  "cells": [
    {
      "cell_type": "code",
      "execution_count": null,
      "metadata": {
        "id": "FxUzs4CVa2Hp"
      },
      "outputs": [
        {
          "ename": "",
          "evalue": "",
          "output_type": "error",
          "traceback": [
            "\u001b[1;31mFailed to start the Kernel. \n",
            "\u001b[1;31mC:\\Users\\ABDUL HAKEEM\\AppData\\Local\\Packages\\PythonSoftwareFoundation.Python.3.9_qbz5n2kfra8p0\\LocalCache\\local-packages\\Python39\\site-packages\\traitlets\\traitlets.py:2202: FutureWarning: Supporting extra quotes around strings is deprecated in traitlets 5.0. You can use 'hmac-sha256' instead of '\"hmac-sha256\"' if you require traitlets >=5.\n",
            "\u001b[1;31m  warn(\n",
            "\u001b[1;31mC:\\Users\\ABDUL HAKEEM\\AppData\\Local\\Packages\\PythonSoftwareFoundation.Python.3.9_qbz5n2kfra8p0\\LocalCache\\local-packages\\Python39\\site-packages\\traitlets\\traitlets.py:2157: FutureWarning: Supporting extra quotes around Bytes is deprecated in traitlets 5.0. Use '5dee7686-0df3-40b2-81da-a26d4b105bab' instead of 'b\"5dee7686-0df3-40b2-81da-a26d4b105bab\"'.\n",
            "\u001b[1;31m  warn(\n",
            "\u001b[1;31mC:\\Users\\ABDUL HAKEEM\\AppData\\Local\\Packages\\PythonSoftwareFoundation.Python.3.9_qbz5n2kfra8p0\\LocalCache\\local-packages\\Python39\\site-packages\\traitlets\\traitlets.py:2202: FutureWarning: Supporting extra quotes around strings is deprecated in traitlets 5.0. You can use 'c:\\\\Users\\\\ABDUL HAKEEM\\\\AppData\\\\Roaming\\\\jupyter\\\\runtime\\\\kernel-v2-1556VzeubPMOl1K2.json' instead of '\"c:\\\\Users\\\\ABDUL HAKEEM\\\\AppData\\\\Roaming\\\\jupyter\\\\runtime\\\\kernel-v2-1556VzeubPMOl1K2.json\"' if you require traitlets >=5.\n",
            "\u001b[1;31m  warn(\n",
            "\u001b[1;31mBad file descriptor (C:\\projects\\libzmq\\src\\epoll.cpp:100). \n",
            "View Jupyter <a href='command:jupyter.viewOutput'>log</a> for further details."
          ]
        }
      ],
      "source": [
        "def find_missing(delivery_list, bag):\n",
        "    for item in items :\n",
        "        if item[\"id\"] not in bag :\n",
        "            bag.append(item[\"id\"])\n",
        "    result = []\n",
        "    for abc in delivery_list :\n",
        "        for item in items :\n",
        "            if abc in item[\"id\"] :\n",
        "                row= { \"id\": abc, \"name\": item['name'] },\n",
        "                result.append(row)\n",
        "    return result"
      ]
    }
  ],
  "metadata": {
    "colab": {
      "collapsed_sections": [],
      "name": "TestFloges.ipynb",
      "provenance": []
    },
    "kernelspec": {
      "display_name": "Python 3.9.13 64-bit (windows store)",
      "language": "python",
      "name": "python3"
    },
    "language_info": {
      "name": "python",
      "version": "3.9.13"
    },
    "vscode": {
      "interpreter": {
        "hash": "a4c75173cc9d9cef3085f269163612567737f3f046089ea5ad18fa78252338fd"
      }
    }
  },
  "nbformat": 4,
  "nbformat_minor": 0
}
